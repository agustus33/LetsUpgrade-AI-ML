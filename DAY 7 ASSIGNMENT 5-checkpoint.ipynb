{
 "cells": [
  {
   "cell_type": "code",
   "execution_count": 10,
   "metadata": {},
   "outputs": [
    {
     "name": "stdout",
     "output_type": "stream",
     "text": [
      "hello \n",
      "world \n",
      "python \n",
      "how \n",
      "are \n",
      "you \n",
      "all\n"
     ]
    }
   ],
   "source": [
    "\n",
    "fn = open('bcd.txt', 'r')\n",
    "# open other file in write mode \n",
    "fn1 = open('nfile.txt', 'w') \n",
    "  \n",
    "# read the content of the file line by line \n",
    "cont = fn.readlines() \n",
    "type(cont) \n",
    "for i in range(0, len(cont)):  \n",
    "        fn1.write(cont[i]) \n",
    "fn1.close() \n",
    "fn1 = open('nfile.txt', 'r')  \n",
    "cont1 = fn1.read() \n",
    "print(cont1) \n",
    "fn.close() \n",
    "fn1.close() "
   ]
  },
  {
   "cell_type": "code",
   "execution_count": 16,
   "metadata": {},
   "outputs": [
    {
     "name": "stdout",
     "output_type": "stream",
     "text": [
      "b\n"
     ]
    }
   ],
   "source": [
    "def get_max_val_key(data):\n",
    "    max_value = None\n",
    "    for key in data:\n",
    "        if max_value is None or max_value < data[key]:\n",
    "            max_value = data[key]\n",
    "            max_key = key\n",
    "    return max_key\n",
    "\n",
    "data = {'a':11, 'b':12}\n",
    "print(get_max_val_key(data))"
   ]
  },
  {
   "cell_type": "code",
   "execution_count": 18,
   "metadata": {},
   "outputs": [
    {
     "name": "stdout",
     "output_type": "stream",
     "text": [
      "a\n"
     ]
    }
   ],
   "source": [
    "def get_max_val_key(data):\n",
    "    max_value = None\n",
    "    for key in data:\n",
    "        if max_value is None or max_value > data[key]:\n",
    "            max_value = data[key]\n",
    "            max_key = key\n",
    "    return max_key\n",
    "\n",
    "data = {'a':11, 'b':12}\n",
    "print(get_max_val_key(data))"
   ]
  },
  {
   "cell_type": "code",
   "execution_count": null,
   "metadata": {},
   "outputs": [],
   "source": []
  }
 ],
 "metadata": {
  "kernelspec": {
   "display_name": "Python 3",
   "language": "python",
   "name": "python3"
  },
  "language_info": {
   "codemirror_mode": {
    "name": "ipython",
    "version": 3
   },
   "file_extension": ".py",
   "mimetype": "text/x-python",
   "name": "python",
   "nbconvert_exporter": "python",
   "pygments_lexer": "ipython3",
   "version": "3.7.1"
  }
 },
 "nbformat": 4,
 "nbformat_minor": 2
}
