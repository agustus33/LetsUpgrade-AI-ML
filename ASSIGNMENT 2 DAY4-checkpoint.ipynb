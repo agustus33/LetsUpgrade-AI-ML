{
 "cells": [
  {
   "cell_type": "code",
   "execution_count": 10,
   "metadata": {},
   "outputs": [
    {
     "name": "stdout",
     "output_type": "stream",
     "text": [
      "enter the number10+5j\n",
      "enter the number5+2j\n",
      "(10+5j) + (5+2j) = (15+7j) \n",
      "(10+5j) - (5+2j) = (5+3j) \n",
      "(10+5j) * (5+2j) = (40+45j) \n",
      "(10+5j) / (5+2j) = (2.0689655172413794+0.1724137931034483j) \n"
     ]
    }
   ],
   "source": [
    "import math\n",
    "num1=complex(input(\"enter the number\"))\n",
    "num2=complex(input(\"enter the number\"))\n",
    "add=num1+num2\n",
    "print(\"{} + {} = {} \".format(num1,num2,add))\n",
    "sub=num1-num2\n",
    "print(\"{} - {} = {} \".format(num1,num2,sub))\n",
    "mul=num1*num2\n",
    "print(\"{} * {} = {} \".format(num1,num2,mul))\n",
    "div=num1/num2\n",
    "print(\"{} / {} = {} \".format(num1,num2,div))\n"
   ]
  },
  {
   "cell_type": "markdown",
   "metadata": {},
   "source": [
    "# QUESTION 2"
   ]
  },
  {
   "cell_type": "markdown",
   "metadata": {},
   "source": [
    "# range function"
   ]
  },
  {
   "cell_type": "markdown",
   "metadata": {},
   "source": [
    "## it is used to fix range in for loops\n",
    "## syntax range(0,12,1)\n",
    "## 0 is initial value, 12 is finl value ,it is incremented by 1"
   ]
  },
  {
   "cell_type": "markdown",
   "metadata": {},
   "source": [
    "# QUESTION 3"
   ]
  },
  {
   "cell_type": "code",
   "execution_count": 8,
   "metadata": {},
   "outputs": [
    {
     "name": "stdout",
     "output_type": "stream",
     "text": [
      "enter the number40\n",
      "enter the number5\n",
      "8.0\n"
     ]
    }
   ],
   "source": [
    "a= int(input(\"enter the number\"))\n",
    "b= int(input(\"enter the number\"))\n",
    "c=a-b\n",
    "if(c<25):\n",
    "    d=a*b\n",
    "    print(d)\n",
    "else:\n",
    "    e=a/b\n",
    "    print(e)"
   ]
  },
  {
   "cell_type": "markdown",
   "metadata": {},
   "source": [
    "# QUESTION 4"
   ]
  },
  {
   "cell_type": "code",
   "execution_count": 11,
   "metadata": {},
   "outputs": [
    {
     "name": "stdout",
     "output_type": "stream",
     "text": [
      "[2] square of that number minus 2\n",
      "[4] square of that number minus 2\n",
      "[6] square of that number minus 2\n",
      "[8] square of that number minus 2\n",
      "[10] square of that number minus 2\n"
     ]
    }
   ],
   "source": [
    "a=[1,2,3,4,5,6,7,8,9,10]\n",
    "for i in range(len(a)):\n",
    "    if(a[i]%2==0):\n",
    "        print(\"[{}] square of that number minus 2\".format(a[i]))"
   ]
  },
  {
   "cell_type": "markdown",
   "metadata": {},
   "source": [
    "# QUESTION 5"
   ]
  },
  {
   "cell_type": "code",
   "execution_count": 13,
   "metadata": {},
   "outputs": [
    {
     "name": "stdout",
     "output_type": "stream",
     "text": [
      "8\n",
      "10\n"
     ]
    }
   ],
   "source": [
    "a=[1,2,3,4,5,6,7,8,9,10]\n",
    "for i in range(len(a)):\n",
    "    if(a[i]>7):\n",
    "        if(a[i]%2==0):\n",
    "            print(a[i])"
   ]
  },
  {
   "cell_type": "code",
   "execution_count": null,
   "metadata": {},
   "outputs": [],
   "source": []
  }
 ],
 "metadata": {
  "kernelspec": {
   "display_name": "Python 3",
   "language": "python",
   "name": "python3"
  },
  "language_info": {
   "codemirror_mode": {
    "name": "ipython",
    "version": 3
   },
   "file_extension": ".py",
   "mimetype": "text/x-python",
   "name": "python",
   "nbconvert_exporter": "python",
   "pygments_lexer": "ipython3",
   "version": "3.7.1"
  }
 },
 "nbformat": 4,
 "nbformat_minor": 2
}
