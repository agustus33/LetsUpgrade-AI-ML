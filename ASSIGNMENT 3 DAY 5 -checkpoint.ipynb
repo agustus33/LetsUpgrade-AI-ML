{
 "cells": [
  {
   "cell_type": "markdown",
   "metadata": {},
   "source": [
    "# QUESTION 1"
   ]
  },
  {
   "cell_type": "code",
   "execution_count": 1,
   "metadata": {},
   "outputs": [
    {
     "name": "stdout",
     "output_type": "stream",
     "text": [
      "1\n",
      "3\n",
      "5\n",
      "7\n",
      "11\n",
      "13\n",
      "17\n",
      "19\n",
      "23\n",
      "29\n",
      "31\n",
      "37\n",
      "41\n",
      "43\n",
      "47\n",
      "53\n",
      "59\n",
      "61\n",
      "67\n",
      "71\n"
     ]
    }
   ],
   "source": [
    "start = 0\n",
    "end = 72\n",
    "a=[]\n",
    "for i in range(start,end): \n",
    "    for j in range(2,i): \n",
    "        if(i % j==0): \n",
    "            break\n",
    "    else: \n",
    "        a.append(i)\n",
    "for i in range(len(a)):\n",
    "    if((a[i]%2)!=0):\n",
    "        print(a[i])"
   ]
  },
  {
   "cell_type": "markdown",
   "metadata": {},
   "source": [
    "# QUESTION 2"
   ]
  },
  {
   "cell_type": "code",
   "execution_count": 2,
   "metadata": {},
   "outputs": [
    {
     "name": "stdout",
     "output_type": "stream",
     "text": [
      "enter the stringhello\n",
      "Hello\n",
      "HELLO\n",
      "hello\n",
      "2\n",
      "False\n",
      "True\n",
      "True\n",
      "False\n",
      "False\n",
      "True\n",
      "False\n",
      "True\n",
      "hello\n",
      "False\n",
      "True\n"
     ]
    }
   ],
   "source": [
    "a=input(\"enter the string\")\n",
    "print(a.capitalize())\n",
    "print(a.upper())\n",
    "print(a.lower())\n",
    "print(a.count(\"l\"))\n",
    "print(a.endswith(\"a\"))\n",
    "print(a.isalnum())\n",
    "print(a.isalpha())\n",
    "print(a.isdecimal())\n",
    "print(a.isdigit())\n",
    "print(a.islower())\n",
    "print(a.isupper())\n",
    "print(a.startswith(\"h\"))\n",
    "print(a.rstrip())\n",
    "print(a.isspace())\n",
    "print(a.isprintable())"
   ]
  },
  {
   "cell_type": "markdown",
   "metadata": {},
   "source": [
    "# QUESTION 3"
   ]
  },
  {
   "cell_type": "code",
   "execution_count": 3,
   "metadata": {},
   "outputs": [
    {
     "name": "stdout",
     "output_type": "stream",
     "text": [
      "Enter first string:rotor\n",
      "Enter second string:hayak\n",
      "The string is a palindrome.\n",
      "The strings aren't anagrams.\n"
     ]
    }
   ],
   "source": [
    "s1=input(\"Enter first string:\")\n",
    "s2=input(\"Enter second string:\")\n",
    "s1 = s1.casefold()\n",
    "rev_str = reversed(s1)\n",
    "if list(s1) == list(rev_str):\n",
    "   print(\"The string is a palindrome.\")\n",
    "else:\n",
    "   print(\"The string is not a palindrome.\")\n",
    "if(sorted(s1)==sorted(s2)):\n",
    "      print(\"The strings are anagrams.\")\n",
    "else:\n",
    "      print(\"The strings aren't anagrams.\")"
   ]
  },
  {
   "cell_type": "markdown",
   "metadata": {},
   "source": [
    "# QUESTION 4"
   ]
  },
  {
   "cell_type": "code",
   "execution_count": 4,
   "metadata": {},
   "outputs": [
    {
     "name": "stdout",
     "output_type": "stream",
     "text": [
      "Enter first string:A@ASDD#\n",
      "aasdd\n"
     ]
    }
   ],
   "source": [
    "s1=input(\"Enter first string:\")\n",
    "s2 = \"\"\n",
    "for character in s1:\n",
    "    if character.isalnum():\n",
    "        s2 += character.lower()\n",
    "print(s2)"
   ]
  },
  {
   "cell_type": "code",
   "execution_count": null,
   "metadata": {},
   "outputs": [],
   "source": []
  }
 ],
 "metadata": {
  "kernelspec": {
   "display_name": "Python 3",
   "language": "python",
   "name": "python3"
  },
  "language_info": {
   "codemirror_mode": {
    "name": "ipython",
    "version": 3
   },
   "file_extension": ".py",
   "mimetype": "text/x-python",
   "name": "python",
   "nbconvert_exporter": "python",
   "pygments_lexer": "ipython3",
   "version": "3.7.1"
  }
 },
 "nbformat": 4,
 "nbformat_minor": 2
}
