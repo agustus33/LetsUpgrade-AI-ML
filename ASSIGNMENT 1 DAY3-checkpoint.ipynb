{
 "cells": [
  {
   "cell_type": "code",
   "execution_count": 1,
   "metadata": {},
   "outputs": [
    {
     "name": "stdout",
     "output_type": "stream",
     "text": [
      "enter the number10+5j\n",
      "enter the number5+2j\n",
      "(10+5j) + (5+2j) = (5+3j) \n"
     ]
    }
   ],
   "source": [
    "num1=complex(input(\"enter the number\"))\n",
    "num2=complex(input(\"enter the number\"))\n",
    "sub=num1-num2\n",
    "print(\"{} + {} = {} \".format(num1,num2,sub))"
   ]
  },
  {
   "cell_type": "code",
   "execution_count": 2,
   "metadata": {},
   "outputs": [
    {
     "name": "stdout",
     "output_type": "stream",
     "text": [
      "enter the number64\n",
      " the fourth root of64 is2.8284271247461903\n"
     ]
    }
   ],
   "source": [
    "num=int(input(\"enter the number\"))\n",
    "root=num**(1/4)\n",
    "print(\" the fourth root of{} is{}\".format(num,root))"
   ]
  },
  {
   "cell_type": "code",
   "execution_count": 3,
   "metadata": {},
   "outputs": [
    {
     "name": "stdout",
     "output_type": "stream",
     "text": [
      "enter the number2\n",
      "enter the number3\n",
      "before swapping\n",
      "a=2 b=3\n",
      "after swapping\n",
      "a=3 b=2\n"
     ]
    }
   ],
   "source": [
    "a=int(input(\"enter the number\"))\n",
    "b=int(input(\"enter the number\"))\n",
    "print(\"before swapping\")\n",
    "print(\"a={} b={}\".format(a,b))\n",
    "temp=a\n",
    "a=b\n",
    "b=temp\n",
    "print(\"after swapping\")\n",
    "print(\"a={} b={}\".format(a,b))\n",
    "\n"
   ]
  },
  {
   "cell_type": "code",
   "execution_count": 4,
   "metadata": {},
   "outputs": [
    {
     "name": "stdout",
     "output_type": "stream",
     "text": [
      "enter the number2\n",
      "enter the number3\n",
      "before swapping\n",
      "a=2 b=3\n",
      "after swapping\n",
      "a=3 b=2\n"
     ]
    }
   ],
   "source": [
    "a=int(input(\"enter the number\"))\n",
    "b=int(input(\"enter the number\"))\n",
    "print(\"before swapping\")\n",
    "print(\"a={} b={}\".format(a,b))\n",
    "(a,b)=(b,a)\n",
    "print(\"after swapping\")\n",
    "print(\"a={} b={}\".format(a,b))\n",
    "\n"
   ]
  },
  {
   "cell_type": "code",
   "execution_count": 6,
   "metadata": {},
   "outputs": [
    {
     "name": "stdout",
     "output_type": "stream",
     "text": [
      "<class 'int'>\n",
      "<class 'float'>\n",
      "<class 'str'>\n",
      "<class 'complex'>\n",
      "<class 'list'>\n",
      "<class 'set'>\n",
      "<class 'tuple'>\n",
      "<class 'bool'>\n"
     ]
    }
   ],
   "source": [
    "a=10\n",
    "b=2.6\n",
    "c=\"hai\"\n",
    "d=5+9j\n",
    "e=[1,2,3,4]\n",
    "f={1,2,3,4}\n",
    "g=(1,2,3,4)\n",
    "h=True\n",
    "print(type(a))\n",
    "print(type(b))\n",
    "print(type(c))\n",
    "print(type(d))\n",
    "print(type(e))\n",
    "print(type(f))\n",
    "print(type(g))\n",
    "print(type(h))\n",
    "\n"
   ]
  },
  {
   "cell_type": "code",
   "execution_count": 9,
   "metadata": {},
   "outputs": [
    {
     "name": "stdout",
     "output_type": "stream",
     "text": [
      "enter the fahrenheit35\n",
      "celsius1.6666666666666667  kelvin274.8366666666667\n"
     ]
    }
   ],
   "source": [
    "f=float(input(\"enter the fahrenheit\"))\n",
    "c=(f-32)*(5/9)\n",
    "k=c+273.17\n",
    "print(\"celsius{}  kelvin{}\".format(c,k))"
   ]
  },
  {
   "cell_type": "code",
   "execution_count": null,
   "metadata": {},
   "outputs": [],
   "source": []
  }
 ],
 "metadata": {
  "kernelspec": {
   "display_name": "Python 3",
   "language": "python",
   "name": "python3"
  },
  "language_info": {
   "codemirror_mode": {
    "name": "ipython",
    "version": 3
   },
   "file_extension": ".py",
   "mimetype": "text/x-python",
   "name": "python",
   "nbconvert_exporter": "python",
   "pygments_lexer": "ipython3",
   "version": "3.7.1"
  }
 },
 "nbformat": 4,
 "nbformat_minor": 2
}
