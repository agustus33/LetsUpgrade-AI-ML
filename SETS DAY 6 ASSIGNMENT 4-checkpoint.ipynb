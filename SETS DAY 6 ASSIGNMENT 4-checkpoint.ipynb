{
 "cells": [
  {
   "cell_type": "markdown",
   "metadata": {},
   "source": [
    "# SETS"
   ]
  },
  {
   "cell_type": "markdown",
   "metadata": {},
   "source": [
    "### A set is an unordered collection of items. Every set element is unique (no duplicates) and must be immutable (cannot be changed)."
   ]
  },
  {
   "cell_type": "code",
   "execution_count": 3,
   "metadata": {},
   "outputs": [
    {
     "name": "stdout",
     "output_type": "stream",
     "text": [
      "{8, 2, 7}\n",
      "{1.0, 'hai', (1, 2, 3)}\n"
     ]
    }
   ],
   "source": [
    "set = {8, 2, 7}\n",
    "print(set)\n",
    "\n",
    "\n",
    "set = {1.0, \"hai\", (1, 2, 3)}\n",
    "print(set)"
   ]
  },
  {
   "cell_type": "markdown",
   "metadata": {},
   "source": [
    "### set cannot have duplicates"
   ]
  },
  {
   "cell_type": "code",
   "execution_count": 4,
   "metadata": {},
   "outputs": [
    {
     "name": "stdout",
     "output_type": "stream",
     "text": [
      "{1, 2, 3, 4}\n"
     ]
    }
   ],
   "source": [
    "my_set = {1, 2, 3, 4, 3, 2}\n",
    "print(my_set)"
   ]
  },
  {
   "cell_type": "markdown",
   "metadata": {},
   "source": [
    "# set funcions"
   ]
  },
  {
   "cell_type": "markdown",
   "metadata": {},
   "source": [
    "### add()\tAdds an element to the set ### clear()\tRemoves all the elements from the set\n",
    "### copy()\tReturns a copy of the set\n",
    "### difference()\tReturns a set containing the difference between two or more sets\n",
    "### difference_update()\tRemoves the items in this set that are also included in another, specified set\n",
    "### discard()\tRemove the specified item\n",
    "### intersection()\tReturns a set, that is the intersection of two other sets\n",
    "### intersection_update()\tRemoves the items in this set that are not present in other, specified set(s)\n",
    "### isdisjoint()\tReturns whether two sets have a intersection or not\n",
    "### issubset()\tReturns whether another set contains this set or not\n",
    "### issuperset()\tReturns whether this set contains another set or not\n",
    "### pop()\tRemoves an element from the set\n",
    "### remove()\tRemoves the specified element\n",
    "### symmetric_difference()\tReturns a set with the symmetric differences of two sets\n",
    "### symmetric_difference_update()\tinserts the symmetric differences from this set and another\n",
    "### union()\tReturn a set containing the union of sets\n",
    "### update()\tUpdate the set with the union of this set and others "
   ]
  },
  {
   "cell_type": "code",
   "execution_count": null,
   "metadata": {},
   "outputs": [],
   "source": []
  }
 ],
 "metadata": {
  "kernelspec": {
   "display_name": "Python 3",
   "language": "python",
   "name": "python3"
  },
  "language_info": {
   "codemirror_mode": {
    "name": "ipython",
    "version": 3
   },
   "file_extension": ".py",
   "mimetype": "text/x-python",
   "name": "python",
   "nbconvert_exporter": "python",
   "pygments_lexer": "ipython3",
   "version": "3.7.1"
  }
 },
 "nbformat": 4,
 "nbformat_minor": 2
}
